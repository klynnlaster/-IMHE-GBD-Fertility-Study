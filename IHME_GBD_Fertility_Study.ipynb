{
 "cells": [
  {
   "cell_type": "code",
   "execution_count": 13,
   "id": "47406655",
   "metadata": {},
   "outputs": [],
   "source": [
    "import numpy as np"
   ]
  },
  {
   "cell_type": "code",
   "execution_count": 14,
   "id": "a6fddde2",
   "metadata": {},
   "outputs": [],
   "source": [
    "import pandas as pd"
   ]
  },
  {
   "cell_type": "code",
   "execution_count": 15,
   "id": "08e7cff0",
   "metadata": {},
   "outputs": [],
   "source": [
    "df = pd.read_csv('IHME_FERTILITY_1950_2019.CSV', index_col = \"location_id\")"
   ]
  },
  {
   "cell_type": "code",
   "execution_count": 16,
   "id": "61a68f50",
   "metadata": {},
   "outputs": [
    {
     "data": {
      "text/html": [
       "<div>\n",
       "<style scoped>\n",
       "    .dataframe tbody tr th:only-of-type {\n",
       "        vertical-align: middle;\n",
       "    }\n",
       "\n",
       "    .dataframe tbody tr th {\n",
       "        vertical-align: top;\n",
       "    }\n",
       "\n",
       "    .dataframe thead th {\n",
       "        text-align: right;\n",
       "    }\n",
       "</style>\n",
       "<table border=\"1\" class=\"dataframe\">\n",
       "  <thead>\n",
       "    <tr style=\"text-align: right;\">\n",
       "      <th></th>\n",
       "      <th>location_name</th>\n",
       "      <th>sex_id</th>\n",
       "      <th>sex</th>\n",
       "      <th>age_group_id</th>\n",
       "      <th>age_group_name</th>\n",
       "      <th>year_id</th>\n",
       "      <th>measure_id</th>\n",
       "      <th>measure_name</th>\n",
       "      <th>metric_id</th>\n",
       "      <th>metric_name</th>\n",
       "      <th>val</th>\n",
       "      <th>upper</th>\n",
       "      <th>lower</th>\n",
       "    </tr>\n",
       "    <tr>\n",
       "      <th>location_id</th>\n",
       "      <th></th>\n",
       "      <th></th>\n",
       "      <th></th>\n",
       "      <th></th>\n",
       "      <th></th>\n",
       "      <th></th>\n",
       "      <th></th>\n",
       "      <th></th>\n",
       "      <th></th>\n",
       "      <th></th>\n",
       "      <th></th>\n",
       "      <th></th>\n",
       "      <th></th>\n",
       "    </tr>\n",
       "  </thead>\n",
       "  <tbody>\n",
       "    <tr>\n",
       "      <th>1</th>\n",
       "      <td>Global</td>\n",
       "      <td>2</td>\n",
       "      <td>female</td>\n",
       "      <td>22</td>\n",
       "      <td>All Ages</td>\n",
       "      <td>1950</td>\n",
       "      <td>45</td>\n",
       "      <td>Fertility</td>\n",
       "      <td>3</td>\n",
       "      <td>Rate</td>\n",
       "      <td>4.973771</td>\n",
       "      <td>5.157433</td>\n",
       "      <td>4.792907</td>\n",
       "    </tr>\n",
       "    <tr>\n",
       "      <th>1</th>\n",
       "      <td>Global</td>\n",
       "      <td>2</td>\n",
       "      <td>female</td>\n",
       "      <td>22</td>\n",
       "      <td>All Ages</td>\n",
       "      <td>1951</td>\n",
       "      <td>45</td>\n",
       "      <td>Fertility</td>\n",
       "      <td>3</td>\n",
       "      <td>Rate</td>\n",
       "      <td>4.964051</td>\n",
       "      <td>5.141019</td>\n",
       "      <td>4.786501</td>\n",
       "    </tr>\n",
       "    <tr>\n",
       "      <th>1</th>\n",
       "      <td>Global</td>\n",
       "      <td>2</td>\n",
       "      <td>female</td>\n",
       "      <td>22</td>\n",
       "      <td>All Ages</td>\n",
       "      <td>1952</td>\n",
       "      <td>45</td>\n",
       "      <td>Fertility</td>\n",
       "      <td>3</td>\n",
       "      <td>Rate</td>\n",
       "      <td>4.946488</td>\n",
       "      <td>5.111162</td>\n",
       "      <td>4.782822</td>\n",
       "    </tr>\n",
       "    <tr>\n",
       "      <th>1</th>\n",
       "      <td>Global</td>\n",
       "      <td>2</td>\n",
       "      <td>female</td>\n",
       "      <td>22</td>\n",
       "      <td>All Ages</td>\n",
       "      <td>1953</td>\n",
       "      <td>45</td>\n",
       "      <td>Fertility</td>\n",
       "      <td>3</td>\n",
       "      <td>Rate</td>\n",
       "      <td>4.942515</td>\n",
       "      <td>5.103155</td>\n",
       "      <td>4.784945</td>\n",
       "    </tr>\n",
       "    <tr>\n",
       "      <th>1</th>\n",
       "      <td>Global</td>\n",
       "      <td>2</td>\n",
       "      <td>female</td>\n",
       "      <td>22</td>\n",
       "      <td>All Ages</td>\n",
       "      <td>1954</td>\n",
       "      <td>45</td>\n",
       "      <td>Fertility</td>\n",
       "      <td>3</td>\n",
       "      <td>Rate</td>\n",
       "      <td>4.949489</td>\n",
       "      <td>5.103161</td>\n",
       "      <td>4.796263</td>\n",
       "    </tr>\n",
       "  </tbody>\n",
       "</table>\n",
       "</div>"
      ],
      "text/plain": [
       "            location_name  sex_id     sex  age_group_id age_group_name  \\\n",
       "location_id                                                              \n",
       "1                  Global       2  female            22       All Ages   \n",
       "1                  Global       2  female            22       All Ages   \n",
       "1                  Global       2  female            22       All Ages   \n",
       "1                  Global       2  female            22       All Ages   \n",
       "1                  Global       2  female            22       All Ages   \n",
       "\n",
       "             year_id  measure_id measure_name  metric_id metric_name  \\\n",
       "location_id                                                            \n",
       "1               1950          45    Fertility          3        Rate   \n",
       "1               1951          45    Fertility          3        Rate   \n",
       "1               1952          45    Fertility          3        Rate   \n",
       "1               1953          45    Fertility          3        Rate   \n",
       "1               1954          45    Fertility          3        Rate   \n",
       "\n",
       "                  val     upper     lower  \n",
       "location_id                                \n",
       "1            4.973771  5.157433  4.792907  \n",
       "1            4.964051  5.141019  4.786501  \n",
       "1            4.946488  5.111162  4.782822  \n",
       "1            4.942515  5.103155  4.784945  \n",
       "1            4.949489  5.103161  4.796263  "
      ]
     },
     "execution_count": 16,
     "metadata": {},
     "output_type": "execute_result"
    }
   ],
   "source": [
    "df.head()"
   ]
  },
  {
   "cell_type": "code",
   "execution_count": 17,
   "id": "d0ac1c38",
   "metadata": {},
   "outputs": [],
   "source": [
    "df.drop(columns = df.loc[:,'location_name':'age_group_name'], inplace = True)"
   ]
  },
  {
   "cell_type": "code",
   "execution_count": 19,
   "id": "6645598e",
   "metadata": {},
   "outputs": [],
   "source": [
    "df.drop(columns = df.loc[:,'measure_id':'metric_name'], inplace = True)"
   ]
  },
  {
   "cell_type": "code",
   "execution_count": 20,
   "id": "9d2ee91d",
   "metadata": {},
   "outputs": [],
   "source": [
    "df.drop(columns = df.loc[:,'upper':'lower'], inplace = True)"
   ]
  },
  {
   "cell_type": "code",
   "execution_count": 42,
   "id": "fe9dd672",
   "metadata": {},
   "outputs": [],
   "source": [
    "globalDf = df.loc[1]"
   ]
  },
  {
   "cell_type": "code",
   "execution_count": 43,
   "id": "b804575f",
   "metadata": {},
   "outputs": [],
   "source": [
    "usDf = df.loc[102]"
   ]
  },
  {
   "cell_type": "code",
   "execution_count": 44,
   "id": "76573776",
   "metadata": {},
   "outputs": [],
   "source": [
    "globalDf = globalDf.rename(columns = {'year_id':'Year', 'val':'Global'})"
   ]
  },
  {
   "cell_type": "code",
   "execution_count": 45,
   "id": "2fef810c",
   "metadata": {},
   "outputs": [],
   "source": [
    "globalDf = globalDf.set_index('Year')"
   ]
  },
  {
   "cell_type": "code",
   "execution_count": 48,
   "id": "4a4ee564",
   "metadata": {
    "scrolled": true
   },
   "outputs": [],
   "source": [
    "usDf = usDf.rename(columns = {'year_id':'Year', 'val':'US'})"
   ]
  },
  {
   "cell_type": "code",
   "execution_count": 49,
   "id": "c305f91a",
   "metadata": {},
   "outputs": [],
   "source": [
    "usDf = usDf.set_index('Year')"
   ]
  },
  {
   "cell_type": "code",
   "execution_count": 55,
   "id": "f7f1b972",
   "metadata": {},
   "outputs": [],
   "source": [
    "result = globalDf.join(usDf)"
   ]
  },
  {
   "cell_type": "code",
   "execution_count": 56,
   "id": "42c13b37",
   "metadata": {},
   "outputs": [
    {
     "data": {
      "text/html": [
       "<div>\n",
       "<style scoped>\n",
       "    .dataframe tbody tr th:only-of-type {\n",
       "        vertical-align: middle;\n",
       "    }\n",
       "\n",
       "    .dataframe tbody tr th {\n",
       "        vertical-align: top;\n",
       "    }\n",
       "\n",
       "    .dataframe thead th {\n",
       "        text-align: right;\n",
       "    }\n",
       "</style>\n",
       "<table border=\"1\" class=\"dataframe\">\n",
       "  <thead>\n",
       "    <tr style=\"text-align: right;\">\n",
       "      <th></th>\n",
       "      <th>Global</th>\n",
       "      <th>US</th>\n",
       "    </tr>\n",
       "    <tr>\n",
       "      <th>Year</th>\n",
       "      <th></th>\n",
       "      <th></th>\n",
       "    </tr>\n",
       "  </thead>\n",
       "  <tbody>\n",
       "    <tr>\n",
       "      <th>1950</th>\n",
       "      <td>4.973771</td>\n",
       "      <td>3.086324</td>\n",
       "    </tr>\n",
       "    <tr>\n",
       "      <th>1951</th>\n",
       "      <td>4.964051</td>\n",
       "      <td>3.224046</td>\n",
       "    </tr>\n",
       "    <tr>\n",
       "      <th>1952</th>\n",
       "      <td>4.946488</td>\n",
       "      <td>3.283117</td>\n",
       "    </tr>\n",
       "    <tr>\n",
       "      <th>1953</th>\n",
       "      <td>4.942515</td>\n",
       "      <td>3.364061</td>\n",
       "    </tr>\n",
       "    <tr>\n",
       "      <th>1954</th>\n",
       "      <td>4.949489</td>\n",
       "      <td>3.434871</td>\n",
       "    </tr>\n",
       "    <tr>\n",
       "      <th>...</th>\n",
       "      <td>...</td>\n",
       "      <td>...</td>\n",
       "    </tr>\n",
       "    <tr>\n",
       "      <th>2015</th>\n",
       "      <td>2.413928</td>\n",
       "      <td>1.832330</td>\n",
       "    </tr>\n",
       "    <tr>\n",
       "      <th>2016</th>\n",
       "      <td>2.409830</td>\n",
       "      <td>1.787242</td>\n",
       "    </tr>\n",
       "    <tr>\n",
       "      <th>2017</th>\n",
       "      <td>2.353498</td>\n",
       "      <td>1.754003</td>\n",
       "    </tr>\n",
       "    <tr>\n",
       "      <th>2018</th>\n",
       "      <td>2.312357</td>\n",
       "      <td>1.742513</td>\n",
       "    </tr>\n",
       "    <tr>\n",
       "      <th>2019</th>\n",
       "      <td>2.308915</td>\n",
       "      <td>1.746003</td>\n",
       "    </tr>\n",
       "  </tbody>\n",
       "</table>\n",
       "<p>70 rows × 2 columns</p>\n",
       "</div>"
      ],
      "text/plain": [
       "        Global        US\n",
       "Year                    \n",
       "1950  4.973771  3.086324\n",
       "1951  4.964051  3.224046\n",
       "1952  4.946488  3.283117\n",
       "1953  4.942515  3.364061\n",
       "1954  4.949489  3.434871\n",
       "...        ...       ...\n",
       "2015  2.413928  1.832330\n",
       "2016  2.409830  1.787242\n",
       "2017  2.353498  1.754003\n",
       "2018  2.312357  1.742513\n",
       "2019  2.308915  1.746003\n",
       "\n",
       "[70 rows x 2 columns]"
      ]
     },
     "execution_count": 56,
     "metadata": {},
     "output_type": "execute_result"
    }
   ],
   "source": [
    "result"
   ]
  },
  {
   "cell_type": "code",
   "execution_count": 57,
   "id": "e020cfd4",
   "metadata": {},
   "outputs": [],
   "source": [
    "import matplotlib.pyplot as plt"
   ]
  },
  {
   "cell_type": "code",
   "execution_count": 75,
   "id": "6d5539c2",
   "metadata": {},
   "outputs": [
    {
     "data": {
      "text/plain": [
       "<matplotlib.legend.Legend at 0x23054bdefa0>"
      ]
     },
     "execution_count": 75,
     "metadata": {},
     "output_type": "execute_result"
    },
    {
     "data": {
      "image/png": "[encoded data removed]",
      "text/plain": [
       "<Figure size 432x288 with 1 Axes>"
      ]
     },
     "metadata": {
      "needs_background": "light"
     },
     "output_type": "display_data"
    }
   ],
   "source": [
    "plt.plot(result['Global'], 'r-.', label = 'Global' )\n",
    "plt.plot(result['US'], 'b-.', label = 'US')\n",
    "plt.title('Fertility Rates 1950 - 2019: Global vs US')\n",
    "plt.xlabel('Date')\n",
    "plt.ylabel('Rate')\n",
    "plt.legend(loc=\"upper right\")"
   ]
  },
  {
   "cell_type": "code",
   "execution_count": null,
   "id": "addd293a",
   "metadata": {},
   "outputs": [],
   "source": []
  }
 ],
 "metadata": {
  "kernelspec": {
   "display_name": "Python 3 (ipykernel)",
   "language": "python",
   "name": "python3"
  },
  "language_info": {
   "codemirror_mode": {
    "name": "ipython",
    "version": 3
   },
   "file_extension": ".py",
   "mimetype": "text/x-python",
   "name": "python",
   "nbconvert_exporter": "python",
   "pygments_lexer": "ipython3",
   "version": "3.9.12"
  }
 },
 "nbformat": 4,
 "nbformat_minor": 5
}
